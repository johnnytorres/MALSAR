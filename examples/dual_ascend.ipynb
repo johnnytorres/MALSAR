{
 "cells": [
  {
   "cell_type": "markdown",
   "metadata": {},
   "source": [
    "## linearized Bregman iteration with fixed stepsize\n",
    "\n",
    "minimize $|x|_1 + \\frac{1}{(2*alpha)} |x|_2^2$\n",
    "\n",
    "subject to $Ax = b$\n",
    "\n",
    "input: \n",
    "- A: constraint matrix\n",
    "- b: constraint vector\n",
    "- alpha: smoothing parameter, typical value: 1 to 10 times estimated norm(x,inf)\n",
    "- opts.\n",
    " - stepsize: dual ascent stepsize, see below\n",
    " - tol: stop iteration once norm(Ax-b)<tol*norm(b), default: 1e-4\n",
    " - maxit: max number of iterations, default: 3000\n",
    " - maxT:  max running time in second, default: 1000\n",
    " - x_ref: if provided, norm(x^k - x_ref) is computed and saved in out.hist_err, default: []\n",
    "\n",
    "output:\n",
    "- x: solution vector\n",
    "- out.\n",
    " - iter: number of iterations\n",
    " - hist_obj: objective value at each iteration\n",
    " - hist_res: $|Ax-b|_2$ at each iteration\n",
    " - hist_err: if opts.x_ref is provided, contains norm(x^k - x_ref); otherwise, will be set to []\n",
    "\n",
    "Algorithm:\n",
    "- Linearized Bregman is the dual gradient ascent iteration.\n",
    "- The dual problem is: $b'y - \\frac{alpha}{2} |shrink(A'y,1)|^2$,  \n",
    "  where $shrink(z,1) = z - proj_{[-1,1]}(z) = sign(z).*max(abs(z)-1,0)$\n",
    "\n",
    "Let y be the dual variable. The iteration is \n",
    "- $y^{k+1} = y^k + stepsize (b - alpha*A * shrink(A'y^k,1))$\n",
    "\n",
    "Primal variable x is obtained as \n",
    "- $x^k = alpha * shrink(A'y^k,1)$\n",
    "\n",
    "%\n",
    "% How to set alpha:\n",
    "%   There exists alpha0 so that any alpha >= alpha0 gives the solution to minimize |x|_1 subject to Ax = b.\n",
    "%   The alpha depends on the data, but a typical value is 1 to 10 times the estimate of norm(solution_x,inf)\n",
    "%\n",
    "% How to set opts.stepsize:\n",
    "%   Too large will cause divergence; too small will cause slow convergence.\n",
    "%   A conservative value is 1.99/alpha/norm(A)^2, which guarantees convergence.\n",
    "%   If norm(A)^2 is expensive to compute, one can compute norm(A*A') or norm(A'*A) (choose the easier one!),\n",
    "%   or use the method in arXiv:1104.2076.\n",
    "%   If opts.stepsize is not set, then the code uses 2/alpha/normest(A*A',1e-2)\n",
    "%\n",
    "% How is the algorithm stopped: see \"% stopping\" below\n",
    "%\n",
    "% More information can be found at\n",
    "\n",
    "% http://www.caam.rice.edu/~optimization/linearized_bregman"
   ]
  },
  {
   "cell_type": "code",
   "execution_count": 48,
   "metadata": {},
   "outputs": [],
   "source": [
    "function [x,out] = lbreg_fixedstep(A,b,alpha,opts)\n",
    "\n",
    "if isfield(opts,'stepsize'),  stepsize = opts.stepsize;  else stepsize = 1.99/alpha/normest(A*A',1e-2); end\n",
    "if isfield(opts,'tol'),    tol = opts.tol;     else tol = 1e-4;   end\n",
    "if isfield(opts,'maxit'),  maxit = opts.maxit; else maxit = 500;  end\n",
    "if isfield(opts,'maxT'),   maxT = opts.maxT;   else maxT = 1e3;   end\n",
    "if isfield(opts,'x_ref'),  x_ref = opts.x_ref; else x_ref = []; out.out.hist_err = [];  end\n",
    "\n",
    "m = size(A,1);\n",
    "\n",
    "y = zeros(m,1);\n",
    "res = b; % residual (b - Ax)\n",
    "norm_b = norm(b);\n",
    "\n",
    "shrink = @(z) sign(z).*max(0,abs(z)-1);\n",
    "\n",
    "start_time = tic;\n",
    "\n",
    "for k = 1:maxit\n",
    "\n",
    "    % --- y-update ---\n",
    "    y = y + stepsize * res; % for k=1, (stepsize + 1/max(abs(b.'*A))) can be used as stepsize\n",
    "\n",
    "    % --- x-update ---\n",
    "    x = alpha * shrink(y.'*A).';\n",
    "    Ax = A*x;\n",
    "    res = b - Ax; % res will be used in next y-update\n",
    "\n",
    "    % --- diagnostics, reporting, stopping checks ---\n",
    "    % reporting\n",
    "    out.hist_obj(k) = b.'*y - norm(x)^2/alpha/2; % dual objective\n",
    "    out.hist_res(k) = norm(res); % residual size |b - Ax|_2\n",
    "    if ~isempty(x_ref); out.hist_err(k) = norm(x - x_ref); end\n",
    "\n",
    "    % stopping\n",
    "    if toc(start_time) > maxT; break; end; % running time check\n",
    "    if k > 1\n",
    "        % dual objective check\n",
    "        obj_diff = out.hist_obj(k) - out.hist_obj(k-1);\n",
    "        if obj_diff < -1e-10; error('dual objective decreases; opts.stepsize is too large!'); end\n",
    "        % primal residual check\n",
    "        if norm(res) < tol*norm_b; break; end\n",
    "    end\n",
    "end\n",
    "\n",
    "out.iter = k;\n",
    "\n",
    "end"
   ]
  },
  {
   "cell_type": "code",
   "execution_count": 51,
   "metadata": {},
   "outputs": [
    {
     "name": "stdout",
     "output_type": "stream",
     "text": [
      "warning: doc_cache_create: unusable help text found in file 'gmdistribution'\n",
      "For information about changes from previous versions of the statistics package, run 'news statistics'.\n"
     ]
    }
   ],
   "source": [
    "pkg install -forge statistics"
   ]
  },
  {
   "cell_type": "code",
   "execution_count": 53,
   "metadata": {},
   "outputs": [
    {
     "name": "stdout",
     "output_type": "stream",
     "text": [
      "time = 3.46e-02, solution relative error = 1.41e-04\n",
      "\n"
     ]
    },
    {
     "data": {
      "image/png": "[encoded data removed]",
      "text/plain": [
       "<IPython.core.display.Image object>"
      ]
     },
     "metadata": {},
     "output_type": "display_data"
    },
    {
     "data": {
      "image/png": "[encoded data removed]",
      "text/plain": [
       "<IPython.core.display.Image object>"
      ]
     },
     "metadata": {},
     "output_type": "display_data"
    }
   ],
   "source": [
    "% An example of recovery a sparse solution x from Ax = b using linearized Bregman iteration with a fixed stepsize\n",
    "% The nonzero entries of x equal 1\n",
    "\n",
    "%% Generate problem data\n",
    "pkg load statistics\n",
    "\n",
    "rand('seed', 0); randn('seed', 0);\n",
    "\n",
    "m = 250; n = 500; % matrix dimension m-by-n\n",
    "k = 25; % sparsity\n",
    "\n",
    "A = randn(m,n); % random matrix\n",
    "x_ref = zeros(n,1); % true vector\n",
    "x_ref(randsample(n,k)) = 1;\n",
    "b = A*x_ref; % finish generating equations Ax = b\n",
    "\n",
    "%% Solve problem\n",
    "alpha = 5*norm(x_ref,inf); % don't need to be exact, roughly 1 - 10 times norm(x_ref,inf) is fine\n",
    "opts.stepsize = 2/alpha/normest(A*A.',1e-2); % roughly 2/alpha/norm(A)^2\n",
    "opts.tol = 1e-4; % stop once norm(Ax-b)<tol*norm(b)\n",
    "opts.x_ref = x_ref;\n",
    "\n",
    "t0 = tic;\n",
    "[x,out] = lbreg_fixedstep(A,b,alpha,opts);\n",
    "time = toc(t0);\n",
    "\n",
    "%% Reporting\n",
    "fprintf('time = %4.2e, ', time);\n",
    "fprintf('solution relative error = %4.2e\\n\\n', norm(x - x_ref)/norm(x_ref));\n",
    "\n",
    "figure;\n",
    "plot(1:out.iter, out.hist_obj, 'k-', 'LineWidth', 2);\n",
    "title('Dual objective')\n",
    "xlabel('iteration'); ylabel('dual objective');\n",
    "\n",
    "figure;\n",
    "semilogy(1:out.iter, out.hist_err/norm(x_ref), 'k-', 'LineWidth', 2);\n",
    "title('Primal solution relative error')\n",
    "xlabel('iteration'); ylabel('||x - x_{ref}||_2/||x_{ref}||_2');\n",
    "\n",
    "%% <http://www.caam.rice.edu/~optimization/linearized_bregman/fixed_step/example_binary_sol.m Download this m-file>"
   ]
  },
  {
   "cell_type": "code",
   "execution_count": null,
   "metadata": {},
   "outputs": [],
   "source": []
  }
 ],
 "metadata": {
  "kernelspec": {
   "display_name": "Octave",
   "language": "octave",
   "name": "octave"
  },
  "language_info": {
   "file_extension": ".m",
   "help_links": [
    {
     "text": "GNU Octave",
     "url": "https://www.gnu.org/software/octave/support.html"
    },
    {
     "text": "Octave Kernel",
     "url": "https://github.com/Calysto/octave_kernel"
    },
    {
     "text": "MetaKernel Magics",
     "url": "https://metakernel.readthedocs.io/en/latest/source/README.html"
    }
   ],
   "mimetype": "text/x-octave",
   "name": "octave",
   "version": "5.1.0"
  }
 },
 "nbformat": 4,
 "nbformat_minor": 2
}
