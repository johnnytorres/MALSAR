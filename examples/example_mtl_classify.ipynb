{
 "cells": [
  {
   "cell_type": "code",
   "execution_count": 14,
   "metadata": {},
   "outputs": [],
   "source": [
    "clear, clc;\n",
    "addpath('../MALSAR/utils/')\n",
    "addpath('../MALSAR/functions/Lasso/')\n"
   ]
  },
  {
   "cell_type": "code",
   "execution_count": 15,
   "metadata": {},
   "outputs": [
    {
     "name": "stdout",
     "output_type": "stream",
     "text": [
      "ans =\r\n",
      "\r\n",
      " Columns 1 through 7:\r\n",
      "\r\n",
      "  -0.841986   0.289265  -1.027247   1.770149  -0.759418   0.134045   0.744963\r\n",
      "   0.261755   1.137074   1.284170   0.132425  -0.776792   0.042626  -0.148933\r\n",
      "   1.022588  -3.681875  -1.103125   2.437366  -0.340163  -1.948896   0.624941\r\n",
      "  -0.862187  -0.727629  -0.473725   1.180617   0.420936   0.371480  -0.966895\r\n",
      "   0.281163  -1.368911   0.679640   1.134795   0.298204  -2.357518   0.323976\r\n",
      "\r\n",
      " Columns 8 through 10:\r\n",
      "\r\n",
      "   0.075990   0.035988  -0.506848\r\n",
      "  -0.823095  -0.438279   0.173754\r\n",
      "   0.476135  -0.039744  -1.529770\r\n",
      "   0.285082  -0.044852   0.109658\r\n",
      "  -0.278404  -0.459949   0.662361\r\n",
      "\r\n"
     ]
    }
   ],
   "source": [
    "n = 50;\n",
    "d = 300;\n",
    "t = 10;\n",
    "\n",
    "X = cell(t, 1);\n",
    "Y = cell(t, 1);\n",
    "W = randn(d, t);\n",
    "W(1:5,:)"
   ]
  },
  {
   "cell_type": "code",
   "execution_count": 16,
   "metadata": {},
   "outputs": [
    {
     "name": "stdout",
     "output_type": "stream",
     "text": [
      "ans =\r\n",
      "\r\n",
      "  0  1  0  1  0  0  1  1  1  1\r\n",
      "  0  1  1  1  0  1  0  1  1  1\r\n",
      "  1  0  1  0  1  1  1  1  1  1\r\n",
      "  0  1  0  0  0  1  0  1  0  0\r\n",
      "  0  0  1  1  0  1  1  1  1  1\r\n",
      "\r\n"
     ]
    }
   ],
   "source": [
    "W_mask = abs(randn(d, t))<1;\n",
    "W_mask(1:5, :)"
   ]
  },
  {
   "cell_type": "code",
   "execution_count": 19,
   "metadata": {},
   "outputs": [],
   "source": [
    "W(W_mask) = 0;\n",
    "for i = 1: t\n",
    "    X{i} = randn(n, d);\n",
    "    Y{i} = sign(X{i} * W(:, i) + rand(n, 1) * 1.91);\n",
    "    #Y{i} = X{i} * W(:, i) + rand(n, 1) * 0.01;\n",
    "end"
   ]
  },
  {
   "cell_type": "code",
   "execution_count": 20,
   "metadata": {},
   "outputs": [
    {
     "name": "stdout",
     "output_type": "stream",
     "text": [
      "Least Squares Loss Training Accuracy: 1.0000 +/- 0.0000\r\n"
     ]
    }
   ],
   "source": [
    "% training and prediction using least squares loss\n",
    "[W_pred funcVal] = Least_Lasso(X, Y, 0.01);\n",
    "% compute training error\n",
    "least_acc = zeros(t, 1);\n",
    "for i = 1: t\n",
    "    least_acc(i) = nnz(sign(X{i} * W_pred(:, i)) == Y{i})/n;\n",
    "end\n",
    "fprintf('Least Squares Loss Training Accuracy: %.4f +/- %.4f\\n', mean(least_acc), std(least_acc));\n"
   ]
  },
  {
   "cell_type": "code",
   "execution_count": 21,
   "metadata": {},
   "outputs": [
    {
     "name": "stdout",
     "output_type": "stream",
     "text": [
      "Logistic Loss Training Accuracy: 1.0000 +/- 0.0000\r\n"
     ]
    }
   ],
   "source": [
    "% training and prediction using logistic loss\n",
    "[W_pred_logistics C_pred funcValLogistic]= Logistic_Lasso(X, Y, 0.01);\n",
    "% compute training error\n",
    "logistic_acc = zeros(t, 1);\n",
    "for i = 1: t\n",
    "    logistic_acc(i) = nnz(sign(X{i} * W_pred_logistics(:, i) + C_pred(i)) == Y{i})/n;\n",
    "end\n",
    "fprintf('Logistic Loss Training Accuracy: %.4f +/- %.4f\\n', mean(logistic_acc), std(logistic_acc));\n"
   ]
  },
  {
   "cell_type": "code",
   "execution_count": 22,
   "metadata": {},
   "outputs": [
    {
     "name": "stdout",
     "output_type": "stream",
     "text": [
      "ans =\n",
      "\n",
      "    50   300\n",
      "\n",
      "ans =\n",
      "\n",
      "   300    10\n",
      "\n",
      "ans =\n",
      "\n",
      "   1   1\n",
      "\n",
      "ans =\n",
      "\n",
      "  -4.5812\n",
      "  -3.0242\n",
      "  -2.9787\n",
      "   3.4719\n",
      "   2.9688\n",
      "  -5.2487\n",
      "   2.5406\n",
      "   2.9417\n",
      "  -5.3070\n",
      "  -5.9786\n",
      "   3.8035\n",
      "  -3.0382\n",
      "   2.3342\n",
      "  -4.7203\n",
      "  -3.7195\n",
      "  -4.0102\n",
      "  -3.5218\n",
      "   2.4716\n",
      "  -3.4640\n",
      "  -4.6181\n",
      "  -2.9484\n",
      "  -3.4085\n",
      "   3.9688\n",
      "   3.5494\n",
      "  -3.1687\n",
      "   3.8972\n",
      "   3.8355\n",
      "  -4.0940\n",
      "   3.1782\n",
      "  -2.7177\n",
      "  -3.1179\n",
      "   4.8688\n",
      "  -2.6389\n",
      "  -2.9850\n",
      "  -2.6083\n",
      "  -4.5326\n",
      "   2.4699\n",
      "   4.0846\n",
      "  -4.2398\n",
      "   5.0588\n",
      "  -2.3315\n",
      "   3.2124\n",
      "   2.8924\n",
      "  -3.4302\n",
      "   2.8275\n",
      "   3.0258\n",
      "  -4.0081\n",
      "   4.5965\n",
      "  -3.9316\n",
      "   2.6663\n",
      "\n"
     ]
    }
   ],
   "source": [
    "size(X{1}), size(W_pred_logistics), size(C_pred(1))\n",
    "X{i} * W_pred_logistics(:, i) + C_pred(i)"
   ]
  },
  {
   "cell_type": "code",
   "execution_count": 12,
   "metadata": {},
   "outputs": [
    {
     "data": {
      "image/png": "[encoded data removed]",
      "text/plain": [
       "<IPython.core.display.Image object>"
      ]
     },
     "metadata": {},
     "output_type": "display_data"
    }
   ],
   "source": [
    "plot(funcVal, \"displayname\", \"Least cost\")\n",
    "hold on \n",
    "plot(funcValLogistic, \"displayname\", \"Logistic cost\")\n",
    "legend()"
   ]
  },
  {
   "cell_type": "code",
   "execution_count": 46,
   "metadata": {},
   "outputs": [
    {
     "name": "stdout",
     "output_type": "stream",
     "text": [
      "C_pred =\r\n",
      "\r\n",
      " Columns 1 through 8:\r\n",
      "\r\n",
      "   0.10640   0.36193   1.20099   0.31335  -0.21797  -0.88085  -0.68995   1.28954\r\n",
      "\r\n",
      " Columns 9 and 10:\r\n",
      "\r\n",
      "   0.64137   0.12767\r\n",
      "\r\n"
     ]
    }
   ],
   "source": [
    "C_pred"
   ]
  },
  {
   "cell_type": "code",
   "execution_count": 13,
   "metadata": {},
   "outputs": [
    {
     "data": {
      "image/png": "[encoded data removed]",
      "text/plain": [
       "<IPython.core.display.Image object>"
      ]
     },
     "metadata": {},
     "output_type": "display_data"
    }
   ],
   "source": [
    "subplot (1, 2, 1);\n",
    "imshow(W_pred ,\"colormap\", colormap('cool'));\n",
    "title('least weights')\n",
    "subplot (1, 2, 2);\n",
    "imshow(W_pred_logistics ,\"colormap\", colormap('cool'));\n",
    "title('logistics weights')"
   ]
  },
  {
   "cell_type": "code",
   "execution_count": null,
   "metadata": {},
   "outputs": [],
   "source": []
  }
 ],
 "metadata": {
  "kernelspec": {
   "display_name": "Octave",
   "language": "octave",
   "name": "octave"
  },
  "language_info": {
   "file_extension": ".m",
   "help_links": [
    {
     "text": "GNU Octave",
     "url": "https://www.gnu.org/software/octave/support.html"
    },
    {
     "text": "Octave Kernel",
     "url": "https://github.com/Calysto/octave_kernel"
    },
    {
     "text": "MetaKernel Magics",
     "url": "https://metakernel.readthedocs.io/en/latest/source/README.html"
    }
   ],
   "mimetype": "text/x-octave",
   "name": "octave",
   "version": "5.1.0"
  }
 },
 "nbformat": 4,
 "nbformat_minor": 2
}
