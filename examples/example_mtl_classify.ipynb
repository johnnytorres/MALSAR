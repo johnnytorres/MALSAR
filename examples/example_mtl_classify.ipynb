{
 "cells": [
  {
   "cell_type": "code",
   "execution_count": 1,
   "metadata": {},
   "outputs": [],
   "source": [
    "clear, clc;\n",
    "addpath('../MALSAR/utils/')\n",
    "addpath('../MALSAR/functions/Lasso/')"
   ]
  },
  {
   "cell_type": "code",
   "execution_count": 2,
   "metadata": {},
   "outputs": [
    {
     "name": "stdout",
     "output_type": "stream",
     "text": [
      "ans =\r\n",
      "\r\n",
      " Columns 1 through 7:\r\n",
      "\r\n",
      "  -1.280331   0.330999  -1.434749   1.097265   0.413779   0.838482  -0.762711\r\n",
      "   0.275998  -0.959760   0.025349   0.313482   0.402303  -1.777987   0.276966\r\n",
      "  -1.026524  -1.931885   2.239293  -1.724612  -0.049096   0.712097  -0.743424\r\n",
      "   1.794311  -0.136021   1.087104   1.034794   0.474608   0.215700   0.181371\r\n",
      "   0.318684  -0.415440  -0.140547  -0.219559   0.128729   0.305132   0.731401\r\n",
      "\r\n",
      " Columns 8 through 10:\r\n",
      "\r\n",
      "   0.275361  -0.750655   0.938865\r\n",
      "  -0.439103   0.711380   0.220906\r\n",
      "  -0.539621   0.465867   1.883721\r\n",
      "   0.686289   1.007073  -0.238511\r\n",
      "   1.115768  -0.205280   0.083459\r\n",
      "\r\n"
     ]
    }
   ],
   "source": [
    "n = 50;\n",
    "d = 300;\n",
    "t = 10;\n",
    "\n",
    "X = cell(t, 1);\n",
    "Y = cell(t, 1);\n",
    "W = randn(d, t);\n",
    "W(1:5,:)"
   ]
  },
  {
   "cell_type": "code",
   "execution_count": 3,
   "metadata": {},
   "outputs": [
    {
     "name": "stdout",
     "output_type": "stream",
     "text": [
      "ans =\r\n",
      "\r\n",
      "  1  0  1  1  1  1  0  1  0  0\r\n",
      "  1  1  1  0  1  1  1  1  1  1\r\n",
      "  0  0  1  0  0  1  0  1  1  1\r\n",
      "  1  1  1  0  1  0  1  1  0  0\r\n",
      "  1  0  0  1  1  1  0  1  0  0\r\n",
      "\r\n"
     ]
    }
   ],
   "source": [
    "W_mask = abs(randn(d, t))<1;\n",
    "W_mask(1:5, :)"
   ]
  },
  {
   "cell_type": "code",
   "execution_count": 13,
   "metadata": {},
   "outputs": [],
   "source": [
    "W(W_mask) = 0;\n",
    "for i = 1: t\n",
    "    X{i} = randn(n, d);\n",
    "    Y{i} = sign(X{i} * W(:, i) + rand(n, 1) * 0.01);\n",
    "    %Y{i} = X{i} * W(:, i) + rand(n, 1) * 0.01;\n",
    "end"
   ]
  },
  {
   "cell_type": "code",
   "execution_count": 15,
   "metadata": {},
   "outputs": [
    {
     "name": "stdout",
     "output_type": "stream",
     "text": [
      "ans =\r\n",
      "\r\n",
      "  -1\r\n",
      "   1\r\n",
      "  -1\r\n",
      "   1\r\n",
      "  -1\r\n",
      "\r\n"
     ]
    }
   ],
   "source": [
    "Y{i}(1:5)"
   ]
  },
  {
   "cell_type": "code",
   "execution_count": 19,
   "metadata": {},
   "outputs": [
    {
     "name": "stdout",
     "output_type": "stream",
     "text": [
      "Least Squares Loss Training Accuracy: 0.9580 +/- 0.0239\r\n"
     ]
    }
   ],
   "source": [
    "% training and prediction using least squares loss\n",
    "[W_pred funcVal] = Least_Lasso(X, Y, 10);\n",
    "% compute training error\n",
    "least_acc = zeros(t, 1);\n",
    "for i = 1: t\n",
    "    least_acc(i) = nnz(sign(X{i} * W_pred(:, i)) == Y{i})/n;\n",
    "end\n",
    "fprintf('Least Squares Loss Training Accuracy: %.4f +/- %.4f\\n', mean(least_acc), std(least_acc));\n"
   ]
  },
  {
   "cell_type": "code",
   "execution_count": 22,
   "metadata": {},
   "outputs": [
    {
     "name": "stdout",
     "output_type": "stream",
     "text": [
      "Logistic Loss Training Accuracy: 0.9560 +/- 0.0207\r\n"
     ]
    }
   ],
   "source": [
    "% training and prediction using logistic loss\n",
    "[W_pred_logistics C_pred funcValLogistic]= Logistic_Lasso(X, Y, 0.1);\n",
    "% compute training error\n",
    "logistic_acc = zeros(t, 1);\n",
    "for i = 1: t\n",
    "    logistic_acc(i) = nnz(sign(X{i} * W_pred_logistics(:, i) + C_pred(i)) == Y{i})/n;\n",
    "end\n",
    "fprintf('Logistic Loss Training Accuracy: %.4f +/- %.4f\\n', mean(logistic_acc), std(logistic_acc));\n"
   ]
  },
  {
   "cell_type": "code",
   "execution_count": 33,
   "metadata": {},
   "outputs": [
    {
     "name": "stdout",
     "output_type": "stream",
     "text": [
      "y_true =\n",
      "\n",
      "   1   0   1\n",
      "\n",
      "y_pred =\n",
      "\n",
      "   0   1   1\n",
      "\n"
     ]
    }
   ],
   "source": [
    "y_true=[1 0 1]\n",
    "y_pred=[0 1 1]"
   ]
  },
  {
   "cell_type": "code",
   "execution_count": 37,
   "metadata": {},
   "outputs": [
    {
     "name": "stdout",
     "output_type": "stream",
     "text": [
      "ans =  0.50000\r\n"
     ]
    }
   ],
   "source": [
    "sum(y_true==y_pred & y_true==1) / sum(y_pred==1)"
   ]
  },
  {
   "cell_type": "code",
   "execution_count": null,
   "metadata": {},
   "outputs": [],
   "source": []
  },
  {
   "cell_type": "code",
   "execution_count": 32,
   "metadata": {},
   "outputs": [
    {
     "name": "stdout",
     "output_type": "stream",
     "text": [
      "ans =\r\n",
      "\r\n",
      "   0\r\n",
      "   1\r\n",
      "   0\r\n",
      "   1\r\n",
      "   0\r\n",
      "   0\r\n",
      "   0\r\n",
      "   1\r\n",
      "   1\r\n",
      "   1\r\n",
      "   0\r\n",
      "   1\r\n",
      "   0\r\n",
      "   1\r\n",
      "   0\r\n",
      "   1\r\n",
      "   0\r\n",
      "   0\r\n",
      "   1\r\n",
      "   1\r\n",
      "   0\r\n",
      "   1\r\n",
      "   1\r\n",
      "   0\r\n",
      "   1\r\n",
      "   0\r\n",
      "   1\r\n",
      "   0\r\n",
      "   1\r\n",
      "   0\r\n",
      "   1\r\n",
      "   1\r\n",
      "   0\r\n",
      "   1\r\n",
      "   0\r\n",
      "   1\r\n",
      "   1\r\n",
      "   1\r\n",
      "   1\r\n",
      "   1\r\n",
      "   0\r\n",
      "   0\r\n",
      "   1\r\n",
      "   0\r\n",
      "   0\r\n",
      "   0\r\n",
      "   1\r\n",
      "   0\r\n",
      "   0\r\n",
      "   0\r\n",
      "\r\n"
     ]
    }
   ],
   "source": [
    "#size(X{1}), size(W_pred_logistics), size(C_pred(1))\n",
    "double(sign(X{i} * W_pred_logistics(:, i) + C_pred(i))==true)"
   ]
  },
  {
   "cell_type": "code",
   "execution_count": 8,
   "metadata": {},
   "outputs": [
    {
     "data": {
      "image/png": "[encoded data removed]",
      "text/plain": [
       "<IPython.core.display.Image object>"
      ]
     },
     "metadata": {},
     "output_type": "display_data"
    }
   ],
   "source": [
    "plot(funcVal, \"displayname\", \"Least cost\")\n",
    "hold on \n",
    "plot(funcValLogistic, \"displayname\", \"Logistic cost\")\n",
    "legend()"
   ]
  },
  {
   "cell_type": "code",
   "execution_count": 9,
   "metadata": {},
   "outputs": [
    {
     "name": "stdout",
     "output_type": "stream",
     "text": [
      "C_pred =\r\n",
      "\r\n",
      " Columns 1 through 8:\r\n",
      "\r\n",
      "  -0.77233   0.90919   1.50605  -0.84097   1.01015   0.86876   2.01476   0.23565\r\n",
      "\r\n",
      " Columns 9 and 10:\r\n",
      "\r\n",
      "  -0.15645   1.56939\r\n",
      "\r\n"
     ]
    }
   ],
   "source": [
    "C_pred"
   ]
  },
  {
   "cell_type": "code",
   "execution_count": 10,
   "metadata": {},
   "outputs": [
    {
     "data": {
      "image/png": "[encoded data removed]",
      "text/plain": [
       "<IPython.core.display.Image object>"
      ]
     },
     "metadata": {},
     "output_type": "display_data"
    }
   ],
   "source": [
    "subplot (1, 2, 1);\n",
    "imshow(W_pred ,\"colormap\", colormap('cool'));\n",
    "title('least weights')\n",
    "subplot (1, 2, 2);\n",
    "imshow(W_pred_logistics ,\"colormap\", colormap('cool'));\n",
    "title('logistics weights')"
   ]
  },
  {
   "cell_type": "code",
   "execution_count": null,
   "metadata": {},
   "outputs": [],
   "source": []
  }
 ],
 "metadata": {
  "kernelspec": {
   "display_name": "Octave",
   "language": "octave",
   "name": "octave"
  },
  "language_info": {
   "file_extension": ".m",
   "help_links": [
    {
     "text": "GNU Octave",
     "url": "https://www.gnu.org/software/octave/support.html"
    },
    {
     "text": "Octave Kernel",
     "url": "https://github.com/Calysto/octave_kernel"
    },
    {
     "text": "MetaKernel Magics",
     "url": "https://metakernel.readthedocs.io/en/latest/source/README.html"
    }
   ],
   "mimetype": "text/x-octave",
   "name": "octave",
   "version": "5.1.0"
  }
 },
 "nbformat": 4,
 "nbformat_minor": 2
}
